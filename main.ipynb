{
 "cells": [
  {
   "cell_type": "code",
   "execution_count": null,
   "metadata": {},
   "outputs": [],
   "source": [
    "import pandas as pd\n",
    "import numpy as np\n",
    "import matplotlib.pyplot as plt\n",
    "from IPython.display import display\n"
   ]
  },
  {
   "attachments": {},
   "cell_type": "markdown",
   "metadata": {},
   "source": [
    "# Input"
   ]
  },
  {
   "attachments": {},
   "cell_type": "markdown",
   "metadata": {},
   "source": [
    "## Read inputs"
   ]
  },
  {
   "cell_type": "code",
   "execution_count": null,
   "metadata": {},
   "outputs": [],
   "source": [
    "df_train = pd.read_csv('inputs/train.csv')\n",
    "df_test = pd.read_csv('inputs/test.csv')\n",
    "display(df_train.shape)\n",
    "display(df_test.shape)\n"
   ]
  },
  {
   "attachments": {},
   "cell_type": "markdown",
   "metadata": {},
   "source": [
    "## Preprocessing"
   ]
  },
  {
   "attachments": {},
   "cell_type": "markdown",
   "metadata": {},
   "source": [
    "### Concat train test"
   ]
  },
  {
   "cell_type": "code",
   "execution_count": null,
   "metadata": {},
   "outputs": [],
   "source": [
    "# fill 'Weather' of test data to 0 for convenience\n",
    "df_test['Weather'] = np.zeros((len(df_test),))\n",
    "\n",
    "# let train_end_idx be border of 'train.csv' and 'test.csv'\n",
    "train_end_idx = len(df_train)\n",
    "\n",
    "# combine into single dataframe\n",
    "df: pd.DataFrame\n",
    "df = pd.concat([df_train, df_test], sort=False)\n"
   ]
  },
  {
   "attachments": {},
   "cell_type": "markdown",
   "metadata": {},
   "source": [
    "### Before processing"
   ]
  },
  {
   "cell_type": "code",
   "execution_count": null,
   "metadata": {},
   "outputs": [],
   "source": [
    "display(df.shape)\n",
    "display(df.head())\n",
    "display(df.describe())"
   ]
  },
  {
   "attachments": {},
   "cell_type": "markdown",
   "metadata": {},
   "source": [
    "### Process columns"
   ]
  },
  {
   "cell_type": "code",
   "execution_count": null,
   "metadata": {},
   "outputs": [],
   "source": [
    "# # drop object type columns\n",
    "# df = df.drop(columns = [col for col in df.columns if df[col].dtype == object])\n",
    "# # fill missing value with 0\n",
    "# df = df.fillna(0)\n",
    "\n",
    "# show object type columns\n",
    "obj_columns = [col for col in df.columns if df[col].dtype == object]\n",
    "print('object type columns:', obj_columns)\n",
    "\n",
    "# transform date to year, month, day\n",
    "df['Year'] = pd.to_datetime(df['Date']).dt.year\n",
    "df['Month'] = pd.to_datetime(df['Date']).dt.month\n",
    "df['Day'] = pd.to_datetime(df['Date']).dt.day\n",
    "df = df.drop(columns=['Date'])\n",
    "\n",
    "# encode locations\n",
    "df['Loc'] = df['Loc'].rank(method='dense', ascending=False)\n",
    "\n",
    "# encode directions\n",
    "directions = ['N', 'NNE', 'NE', 'ENE', 'E', 'ESE', 'SE', 'SSE', 'S', 'SSW', 'SW', 'WSW', 'W', 'WNW', 'NW', 'NNW']\n",
    "dir_map = {}\n",
    "for idx, dir in zip(range(len(directions)), directions):\n",
    "    dir_map[dir] = idx * 22.5\n",
    "df['WindDir'] = df['WindDir'].map(dir_map)\n",
    "df['DayWindDir'] = df['DayWindDir'].map(dir_map)\n",
    "df['NightWindDir'] = df['NightWindDir'].map(dir_map)\n",
    "\n",
    "# fill missing value\n",
    "df = df.fillna(df.median(axis=0))\n",
    "\n",
    "# normalize\n",
    "cols_to_norm = df.columns.drop('Weather')\n",
    "# min max scale\n",
    "df[cols_to_norm] = (df[cols_to_norm] - df[cols_to_norm].min(axis=0)) / (df[cols_to_norm].max(axis=0) - df[cols_to_norm].min(axis=0))\n"
   ]
  },
  {
   "cell_type": "code",
   "execution_count": null,
   "metadata": {},
   "outputs": [],
   "source": [
    "display(df.shape)\n",
    "display(df.head())\n",
    "display(df.describe())"
   ]
  },
  {
   "attachments": {},
   "cell_type": "markdown",
   "metadata": {},
   "source": [
    "### Split train test"
   ]
  },
  {
   "cell_type": "code",
   "execution_count": null,
   "metadata": {},
   "outputs": [],
   "source": [
    "from sklearn.model_selection import train_test_split\n",
    "\n",
    "X_train, X_val, y_train, y_val = train_test_split(\n",
    "    df.drop(columns=['Weather']).values[:train_end_idx, :],\n",
    "    df['Weather'].values[:train_end_idx], test_size=0.5)\n",
    "\n",
    "X_test = df.drop(columns=['Weather']).values[train_end_idx:, :]\n"
   ]
  },
  {
   "cell_type": "code",
   "execution_count": null,
   "metadata": {},
   "outputs": [],
   "source": [
    "display(y_train.sum())\n",
    "\n",
    "display(X_train.shape)\n",
    "display(X_val.shape)\n",
    "display(y_train.shape)\n",
    "display(y_val.shape)\n",
    "\n",
    "display(X_test.shape)\n"
   ]
  },
  {
   "attachments": {},
   "cell_type": "markdown",
   "metadata": {},
   "source": [
    "### Resampling"
   ]
  },
  {
   "cell_type": "code",
   "execution_count": null,
   "metadata": {},
   "outputs": [],
   "source": [
    "from imblearn.over_sampling import RandomOverSampler, SMOTE, ADASYN, BorderlineSMOTE, SMOTENC\n",
    "from imblearn.combine import SMOTEENN, SMOTETomek\n",
    "\n",
    "resampler = SMOTEENN(random_state=0)\n",
    "# resampler = SMOTENC(categorical_features=[0, 1])\n",
    "X_train, y_train = resampler.fit_resample(X_train, y_train)"
   ]
  },
  {
   "cell_type": "code",
   "execution_count": null,
   "metadata": {},
   "outputs": [],
   "source": [
    "display(y_train.sum())\n",
    "\n",
    "display(X_train.shape)\n",
    "display(y_train.shape)\n"
   ]
  },
  {
   "attachments": {},
   "cell_type": "markdown",
   "metadata": {},
   "source": [
    "# Training"
   ]
  },
  {
   "cell_type": "code",
   "execution_count": null,
   "metadata": {},
   "outputs": [],
   "source": [
    "from sklearn.linear_model import LinearRegression\n",
    "\n",
    "\n",
    "class ModelClass:\n",
    "    def __init__(self) -> None:\n",
    "        self.model = LinearRegression()\n",
    "\n",
    "    def fit(self, X, y) -> None:\n",
    "        self.model.fit(X, y)\n",
    "\n",
    "    def predict(self, X):\n",
    "        return self.model.predict(X)\n"
   ]
  },
  {
   "cell_type": "code",
   "execution_count": null,
   "metadata": {},
   "outputs": [],
   "source": [
    "from sklearn.tree import DecisionTreeClassifier\n",
    "\n",
    "\n",
    "class DecisionTree(ModelClass):\n",
    "    def __init__(self) -> None:\n",
    "        self.model = DecisionTreeClassifier(criterion='entropy', random_state=0)\n"
   ]
  },
  {
   "cell_type": "code",
   "execution_count": null,
   "metadata": {},
   "outputs": [],
   "source": [
    "from sklearn.svm import SVC\n",
    "\n",
    "class SVM(ModelClass):\n",
    "    def __init__(self) -> None:\n",
    "        # self.model = SVC(kernel='linear', random_state=0, probability=True)\n",
    "        self.model = SVC(kernel='rbf' ,C=2 ,random_state=0, probability=True) "
   ]
  },
  {
   "cell_type": "code",
   "execution_count": null,
   "metadata": {},
   "outputs": [],
   "source": [
    "# train tree model\n",
    "model = SVM()\n",
    "model.fit(X_train, y_train)\n",
    "\n",
    "# predict\n",
    "y_pred_decision = model.predict(X_val)\n"
   ]
  },
  {
   "attachments": {},
   "cell_type": "markdown",
   "metadata": {},
   "source": [
    "## Get score"
   ]
  },
  {
   "cell_type": "code",
   "execution_count": null,
   "metadata": {},
   "outputs": [],
   "source": [
    "from sklearn.metrics import accuracy_score, f1_score\n",
    "\n",
    "print('Accuracy: %f' % accuracy_score(y_val, y_pred_decision))\n",
    "print('f1-score: %f' % f1_score(y_val, y_pred_decision))\n"
   ]
  },
  {
   "attachments": {},
   "cell_type": "markdown",
   "metadata": {},
   "source": [
    "# Output"
   ]
  },
  {
   "cell_type": "code",
   "execution_count": null,
   "metadata": {},
   "outputs": [],
   "source": [
    "ans_pred = model.predict(X_test)\n",
    "df_sap = pd.DataFrame(ans_pred.astype(int), columns=['Weather'])\n",
    "df_sap.to_csv('outputs/prediction.csv',  index_label='Id')\n"
   ]
  }
 ],
 "metadata": {
  "kernelspec": {
   "display_name": "pytorch",
   "language": "python",
   "name": "python3"
  },
  "language_info": {
   "codemirror_mode": {
    "name": "ipython",
    "version": 3
   },
   "file_extension": ".py",
   "mimetype": "text/x-python",
   "name": "python",
   "nbconvert_exporter": "python",
   "pygments_lexer": "ipython3",
   "version": "3.10.10"
  }
 },
 "nbformat": 4,
 "nbformat_minor": 2
}
